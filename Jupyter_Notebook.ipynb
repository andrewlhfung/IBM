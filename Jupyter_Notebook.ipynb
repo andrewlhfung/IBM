{
 "cells": [
  {
   "cell_type": "markdown",
   "metadata": {},
   "source": [
    "<center>\n",
    "    <img src=\"https://s3-api.us-geo.objectstorage.softlayer.net/cf-courses-data/CognitiveClass/Logos/organization_logo/organization_logo.png\" width=\"300\" alt=\"cognitiveclass.ai logo\"  />\n",
    "</center>\n"
   ]
  },
  {
   "cell_type": "markdown",
   "metadata": {},
   "source": [
    "#### Add your code below following the instructions given in the course\n"
   ]
  },
  {
   "cell_type": "markdown",
   "metadata": {
    "tags": []
   },
   "source": [
    "# My Jupyter Notebook"
   ]
  },
  {
   "cell_type": "markdown",
   "metadata": {},
   "source": [
    "**Andrew Fung**<br>\n",
    "I am an aspiring data analyst."
   ]
  },
  {
   "cell_type": "markdown",
   "metadata": {},
   "source": [
    "*I am interested in data science because it is fascinating to predict the future using data.*"
   ]
  },
  {
   "cell_type": "markdown",
   "metadata": {},
   "source": [
    "### The result of 1 + 1 is calculated and shown below."
   ]
  },
  {
   "cell_type": "code",
   "execution_count": 1,
   "metadata": {},
   "outputs": [
    {
     "data": {
      "text/plain": [
       "2"
      ]
     },
     "execution_count": 1,
     "metadata": {},
     "output_type": "execute_result"
    }
   ],
   "source": [
    "1 + 1"
   ]
  },
  {
   "cell_type": "markdown",
   "metadata": {},
   "source": [
    "horizontal rule\n",
    "<hr>\n",
    "\n",
    "<ul>\n",
    "    <li>bulleted list</li>\n",
    "    <li>bulleted list</li>\n",
    "</ul>\n",
    "    \n",
    "<ol>\n",
    "    <li>numbered list</li>\n",
    "    <li>numbered list</li>\n",
    "</ol>\n",
    "\n",
    "table\n",
    "<table>\n",
    "  <tr>\n",
    "    <th>Header</th>\n",
    "    <th>Header</th>\n",
    "    <th>Header</th>\n",
    "  </tr>\n",
    "  <tr>\n",
    "    <td>Cell</td>\n",
    "    <td>Cell</td>\n",
    "    <td>Cell</td>\n",
    "  </tr>\n",
    "  <tr>\n",
    "    <td>Cell</td>\n",
    "    <td>Cell</td>\n",
    "    <td>Cell</td>\n",
    "  </tr>\n",
    "</table>\n",
    "\n",
    "hyperlink<br>\n",
    "<a href=\"https://dataplatform.cloud.ibm.com/gallery\">IBM Cloud Gallery</a>\n",
    "\n",
    "image<br>\n",
    "<img src=\"https://upload.wikimedia.org/wikipedia/en/9/97/Sumikkogurashi.png\" />\n",
    "\n",
    "`code/syntax highlighting`\n",
    "\n",
    "<blockquote>blocked quote</blockquote>\n",
    "\n",
    "<strike>strikethrough</strike>"
   ]
  },
  {
   "cell_type": "code",
   "execution_count": null,
   "metadata": {},
   "outputs": [],
   "source": []
  }
 ],
 "metadata": {
  "kernelspec": {
   "display_name": "Python",
   "language": "python",
   "name": "conda-env-python-py"
  },
  "language_info": {
   "codemirror_mode": {
    "name": "ipython",
    "version": 3
   },
   "file_extension": ".py",
   "mimetype": "text/x-python",
   "name": "python",
   "nbconvert_exporter": "python",
   "pygments_lexer": "ipython3",
   "version": "3.7.12"
  }
 },
 "nbformat": 4,
 "nbformat_minor": 4
}
